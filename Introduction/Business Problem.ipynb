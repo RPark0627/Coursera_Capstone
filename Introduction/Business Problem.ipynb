{
    "cells": [
        {
            "metadata": {
                "collapsed": true
            },
            "cell_type": "markdown",
            "source": "# The Battle of Neighborhoods: Introduction/ Business Problem"
        },
        {
            "metadata": {},
            "cell_type": "markdown",
            "source": "### Introduction:"
        },
        {
            "metadata": {},
            "cell_type": "markdown",
            "source": "This project will help people who choose to live in Scarbarough, Toronto to choose the best neighborhood to fulfill their desires and needs. It will help people make decisions while looking at a variety of factors.\n\nPeople who are immigrating or moving to this area may need help or guidance on what neightborhood to choose to live in. Factors that can sway their decision are housing prices, school locations, grocery store locations, etc. This project will help people make this decision by helping them see the factors that may sway their decision in what neighborhood to move to.\n\nThis project will compare neighborhoods and help people moving to choose a neighborhood based on their best interests.\n\nThis project will be focused on Scarbarough, Toronto, but the techniques used in this project can be applied to any area, and can provide insight for people when choosing an are to move into."
        },
        {
            "metadata": {},
            "cell_type": "markdown",
            "source": "### Problem:"
        },
        {
            "metadata": {},
            "cell_type": "markdown",
            "source": "We will help people to choose the best neighborhood by showing and representing factors that may affect their decision. Some of these factors are housing prices, location of schools, distance from markets,bust stops, etc."
        },
        {
            "metadata": {},
            "cell_type": "markdown",
            "source": "### Location:\n"
        },
        {
            "metadata": {},
            "cell_type": "markdown",
            "source": "We will be using Scarbarough, an area in Toronto, for this project. This is because of its popularity with immigrants, so this information will be important to them."
        }
    ],
    "metadata": {
        "kernelspec": {
            "name": "python3",
            "display_name": "Python 3.6",
            "language": "python"
        },
        "language_info": {
            "name": "python",
            "version": "3.6.9",
            "mimetype": "text/x-python",
            "codemirror_mode": {
                "name": "ipython",
                "version": 3
            },
            "pygments_lexer": "ipython3",
            "nbconvert_exporter": "python",
            "file_extension": ".py"
        }
    },
    "nbformat": 4,
    "nbformat_minor": 1
}