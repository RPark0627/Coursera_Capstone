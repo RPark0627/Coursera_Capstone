{
    "cells": [
        {
            "cell_type": "markdown",
            "metadata": {
                "collapsed": true
            },
            "source": "# Final Report"
        },
        {
            "cell_type": "markdown",
            "metadata": {},
            "source": "### Introduction:"
        },
        {
            "cell_type": "markdown",
            "metadata": {},
            "source": "\nThis project will help people who choose to live in Scarbarough, Toronto to choose the best neighborhood to fulfill their desires and needs. It will help people make decisions while looking at a variety of factors.\n\nPeople who are immigrating or moving to this area may need help or guidance on what neightborhood to choose to live in. Factors that can sway their decision are housing prices, school locations, grocery store locations, etc. This project will help people make this decision by helping them see the factors that may sway their decision in what neighborhood to move to.\n\nThis project will compare neighborhoods and help people moving to choose a neighborhood based on their best interests.\n\nThis project will be focused on Scarbarough, Toronto, but the techniques used in this project can be applied to any area, and can provide insight for people when choosing an are to move into."
        },
        {
            "cell_type": "markdown",
            "metadata": {},
            "source": "\n### Data Description:\nWe will be using the data provided in Week 3 for Scarborough\n\nlink: https://en.wikipedia.org/wiki/List_of_postal_codes_of_Canada:_M\n\n#### Foursquare API Data:\n\nWe will use the Foursquare resource to gather all the necessary data to complete this project\n\nWe will gather information on venues within a 100 meter radius of the neighborhood\n\nNeighborhood\nNeighborhood Latitude\nNeighborhood Longitude\nVenue\nName of the venue\nVenue Latitude\nVenue Longitude"
        },
        {
            "cell_type": "markdown",
            "metadata": {},
            "source": "### Methodology:"
        },
        {
            "cell_type": "markdown",
            "metadata": {},
            "source": "#### Clustering:"
        },
        {
            "cell_type": "markdown",
            "metadata": {},
            "source": "We explored neighborhoods, segmented them, and clustered them in order to compare them to each other. We did this to find similar neighborhoods in big cities. We needed to cluster data using the k-means clustering algorithm."
        },
        {
            "cell_type": "markdown",
            "metadata": {},
            "source": "#### Workflow:"
        },
        {
            "cell_type": "markdown",
            "metadata": {},
            "source": "Using credentials of Foursquare API features of near-by places of the neighborhoods would be mined. Due to http request limitations the number of places per neighborhood parameter would reasonably be set to 100 and the radius parameter would be set to 500."
        },
        {
            "cell_type": "markdown",
            "metadata": {},
            "source": "## Results:"
        },
        {
            "cell_type": "markdown",
            "metadata": {},
            "source": "![](map.PNG)"
        },
        {
            "cell_type": "markdown",
            "metadata": {},
            "source": "### Location:"
        },
        {
            "cell_type": "markdown",
            "metadata": {},
            "source": "Scorborough is a popular location for immigrants moving to Canada. The are is diverse and multi-cultural with different kinds of people, religions, and locations. The overall trend for immugration to Canada is increasing."
        },
        {
            "cell_type": "markdown",
            "metadata": {},
            "source": "#### Foursquare API:"
        },
        {
            "cell_type": "markdown",
            "metadata": {},
            "source": "Foursquare API is useful because it has a large accurate database and has a lot of useful features and functions."
        },
        {
            "cell_type": "markdown",
            "metadata": {},
            "source": "## Discussion"
        },
        {
            "cell_type": "markdown",
            "metadata": {},
            "source": "#### Problem:"
        },
        {
            "cell_type": "markdown",
            "metadata": {},
            "source": "The major purpose of this project, is to suggest a better neighborhood in a new city for the person who are shiffting there. Social presence in society in terms of like minded people. Connectivity to the airport, bus stand, city center, markets and other daily needs things nearby."
        },
        {
            "cell_type": "markdown",
            "metadata": {},
            "source": "## Conclusion"
        },
        {
            "cell_type": "markdown",
            "metadata": {},
            "source": "in this project, using k-means cluster algorithm I separated the neighborhood into 10(Ten) different clusters and for 103 different lattitude and logitude from dataset, which have very-similar neighborhoods around them.\n\n"
        }
    ],
    "metadata": {
        "kernelspec": {
            "display_name": "Python 3.6",
            "language": "python",
            "name": "python3"
        },
        "language_info": {
            "codemirror_mode": {
                "name": "ipython",
                "version": 3
            },
            "file_extension": ".py",
            "mimetype": "text/x-python",
            "name": "python",
            "nbconvert_exporter": "python",
            "pygments_lexer": "ipython3",
            "version": "3.6.9"
        }
    },
    "nbformat": 4,
    "nbformat_minor": 1
}