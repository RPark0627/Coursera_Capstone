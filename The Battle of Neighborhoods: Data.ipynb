{
    "cells": [
        {
            "cell_type": "markdown",
            "metadata": {
                "collapsed": true
            },
            "source": "# The Battle of Neighborhoods: Data"
        },
        {
            "cell_type": "markdown",
            "metadata": {},
            "source": "### Data Description:"
        },
        {
            "cell_type": "markdown",
            "metadata": {},
            "source": "We will be using the data provided in Week 3 for Scarborough\n\nlink: https://en.wikipedia.org/wiki/List_of_postal_codes_of_Canada:_M"
        },
        {
            "cell_type": "markdown",
            "metadata": {},
            "source": "### Foursquare API Data:"
        },
        {
            "cell_type": "markdown",
            "metadata": {},
            "source": "We will use the Foursquare resource to gather all the necessary data to complete this project \n\nWe will gather information on venues within a 100 meter radius of the neighborhood\n\n1. Neighborhood\n2. Neighborhood Latitude\n3. Neighborhood Longitude\n4. Venue\n5. Name of the venue \n6. Venue Latitude\n7. Venue Longitude\n"
        }
    ],
    "metadata": {
        "kernelspec": {
            "display_name": "Python 3.6",
            "language": "python",
            "name": "python3"
        },
        "language_info": {
            "codemirror_mode": {
                "name": "ipython",
                "version": 3
            },
            "file_extension": ".py",
            "mimetype": "text/x-python",
            "name": "python",
            "nbconvert_exporter": "python",
            "pygments_lexer": "ipython3",
            "version": "3.6.9"
        }
    },
    "nbformat": 4,
    "nbformat_minor": 1
}